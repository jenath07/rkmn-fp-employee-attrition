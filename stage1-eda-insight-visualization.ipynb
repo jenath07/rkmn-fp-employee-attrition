{
  "cells": [
    {
      "cell_type": "code",
      "execution_count": null,
      "metadata": {
        "id": "IcW-zlIqdGXX"
      },
      "outputs": [],
      "source": [
        "# import required libraries\n",
        "import pandas as pd\n",
        "import numpy as np\n",
        "import matplotlib.pyplot as plt\n",
        "import seaborn as sns"
      ]
    },
    {
      "cell_type": "code",
      "execution_count": 1,
      "metadata": {
        "id": "c-_ZHD_qdGXZ",
        "outputId": "02b94761-6cfc-4e10-affe-38734a7dd630",
        "colab": {
          "base_uri": "https://localhost:8080/",
          "height": 217
        }
      },
      "outputs": [
        {
          "output_type": "error",
          "ename": "NameError",
          "evalue": "ignored",
          "traceback": [
            "\u001b[0;31m---------------------------------------------------------------------------\u001b[0m",
            "\u001b[0;31mNameError\u001b[0m                                 Traceback (most recent call last)",
            "\u001b[0;32m<ipython-input-1-8d98461ac3fc>\u001b[0m in \u001b[0;36m<module>\u001b[0;34m()\u001b[0m\n\u001b[1;32m      5\u001b[0m \u001b[0mgh_data\u001b[0m \u001b[0;34m=\u001b[0m \u001b[0;34m'dataset/WA_Fn-UseC_-HR-Employee-Attrition.csv'\u001b[0m \u001b[0;31m# dataset\u001b[0m\u001b[0;34m\u001b[0m\u001b[0;34m\u001b[0m\u001b[0m\n\u001b[1;32m      6\u001b[0m \u001b[0mgh_url\u001b[0m \u001b[0;34m=\u001b[0m \u001b[0;34mf\"https://raw.githubusercontent.com/{gh_user}/{gh_repo}/{gh_branch}/{gh_data}\"\u001b[0m \u001b[0;31m# concat url\u001b[0m\u001b[0;34m\u001b[0m\u001b[0;34m\u001b[0m\u001b[0m\n\u001b[0;32m----> 7\u001b[0;31m \u001b[0mdf\u001b[0m \u001b[0;34m=\u001b[0m \u001b[0mpd\u001b[0m\u001b[0;34m.\u001b[0m\u001b[0mread_csv\u001b[0m\u001b[0;34m(\u001b[0m\u001b[0mgh_url\u001b[0m\u001b[0;34m)\u001b[0m\u001b[0;34m\u001b[0m\u001b[0;34m\u001b[0m\u001b[0m\n\u001b[0m\u001b[1;32m      8\u001b[0m \u001b[0mdf\u001b[0m\u001b[0;34m.\u001b[0m\u001b[0mhead\u001b[0m\u001b[0;34m(\u001b[0m\u001b[0;34m)\u001b[0m\u001b[0;34m\u001b[0m\u001b[0;34m\u001b[0m\u001b[0m\n",
            "\u001b[0;31mNameError\u001b[0m: name 'pd' is not defined"
          ]
        }
      ],
      "source": [
        "# read dataset from github\n",
        "gh_user = 'faisalydth' # username\n",
        "gh_repo = 'rkmn-fp-employee-attrition' # repository\n",
        "gh_branch = 'main' # branch\n",
        "gh_data = 'dataset/WA_Fn-UseC_-HR-Employee-Attrition.csv' # dataset\n",
        "gh_url = f\"https://raw.githubusercontent.com/{gh_user}/{gh_repo}/{gh_branch}/{gh_data}\" # concat url\n",
        "df = pd.read_csv(gh_url)\n",
        "df.head()"
      ]
    },
    {
      "cell_type": "code",
      "source": [
        "#haloo saya natan"
      ],
      "metadata": {
        "id": "LOVSTOx5dJD1"
      },
      "execution_count": null,
      "outputs": []
    }
  ],
  "metadata": {
    "language_info": {
      "name": "python"
    },
    "orig_nbformat": 4,
    "colab": {
      "name": "stage1-eda-insight-visualization.ipynb",
      "provenance": []
    },
    "kernelspec": {
      "name": "python3",
      "display_name": "Python 3"
    }
  },
  "nbformat": 4,
  "nbformat_minor": 0
}