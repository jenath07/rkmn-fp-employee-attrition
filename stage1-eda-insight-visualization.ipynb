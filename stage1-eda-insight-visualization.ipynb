{
 "cells": [
  {
   "cell_type": "code",
   "execution_count": null,
   "metadata": {},
   "outputs": [],
   "source": [
    "# import required libraries\n",
    "import pandas as pd\n",
    "import numpy as np\n",
    "import matplotlib.pyplot as plt\n",
    "import seaborn as sns"
   ]
  },
  {
   "cell_type": "code",
   "execution_count": null,
   "metadata": {},
   "outputs": [],
   "source": [
    "# read dataset from github\n",
    "gh_user = 'faisalydth' # username\n",
    "gh_repo = 'rkmn-fp-employee-attrition' # repository\n",
    "gh_branch = 'main' # branch\n",
    "gh_data = 'dataset/WA_Fn-UseC_-HR-Employee-Attrition.csv' # dataset\n",
    "gh_url = f\"https://raw.githubusercontent.com/{gh_user}/{gh_repo}/{gh_branch}/{gh_data}\" # concat url\n",
    "df = pd.read_csv(gh_url)\n",
    "df.head()"
   ]
  }
 ],
 "metadata": {
  "language_info": {
   "name": "python"
  },
  "orig_nbformat": 4
 },
 "nbformat": 4,
 "nbformat_minor": 2
}
